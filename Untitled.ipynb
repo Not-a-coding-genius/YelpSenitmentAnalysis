{
 "cells": [
  {
   "cell_type": "code",
   "execution_count": 3,
   "id": "4a5ac803",
   "metadata": {},
   "outputs": [
    {
     "name": "stdout",
     "output_type": "stream",
     "text": [
      "Looking in indexes: https://download.pytorch.org/whl/cu117\n",
      "Requirement already satisfied: torch in c:\\users\\user\\appdata\\local\\programs\\python\\python311\\lib\\site-packages (2.0.1)\n",
      "Collecting torchvision\n",
      "  Downloading https://download.pytorch.org/whl/cu117/torchvision-0.15.2%2Bcu117-cp311-cp311-win_amd64.whl (4.9 MB)\n",
      "                                              0.0/4.9 MB ? eta -:--:--\n",
      "                                              0.1/4.9 MB 1.3 MB/s eta 0:00:04\n",
      "     -                                        0.1/4.9 MB 1.7 MB/s eta 0:00:03\n",
      "     -                                        0.2/4.9 MB 2.0 MB/s eta 0:00:03\n",
      "     --                                       0.3/4.9 MB 1.8 MB/s eta 0:00:03\n",
      "     ---                                      0.4/4.9 MB 1.9 MB/s eta 0:00:03\n",
      "     ---                                      0.5/4.9 MB 1.8 MB/s eta 0:00:03\n",
      "     ----                                     0.6/4.9 MB 1.8 MB/s eta 0:00:03\n",
      "     -----                                    0.7/4.9 MB 1.9 MB/s eta 0:00:03\n",
      "     ------                                   0.8/4.9 MB 1.9 MB/s eta 0:00:03\n",
      "     ------                                   0.8/4.9 MB 1.9 MB/s eta 0:00:03\n",
      "     ------                                   0.8/4.9 MB 1.9 MB/s eta 0:00:03\n",
      "     ------                                   0.8/4.9 MB 1.5 MB/s eta 0:00:03\n",
      "     --------                                 1.1/4.9 MB 1.8 MB/s eta 0:00:03\n",
      "     --------                                 1.1/4.9 MB 1.8 MB/s eta 0:00:03\n",
      "     ----------                               1.2/4.9 MB 1.8 MB/s eta 0:00:03\n",
      "     ----------                               1.3/4.9 MB 1.8 MB/s eta 0:00:02\n",
      "     -----------                              1.5/4.9 MB 1.8 MB/s eta 0:00:02\n",
      "     ------------                             1.5/4.9 MB 1.8 MB/s eta 0:00:02\n",
      "     -------------                            1.7/4.9 MB 1.9 MB/s eta 0:00:02\n",
      "     --------------                           1.8/4.9 MB 1.9 MB/s eta 0:00:02\n",
      "     ---------------                          1.9/4.9 MB 1.9 MB/s eta 0:00:02\n",
      "     ----------------                         2.1/4.9 MB 2.0 MB/s eta 0:00:02\n",
      "     -----------------                        2.2/4.9 MB 2.1 MB/s eta 0:00:02\n",
      "     ------------------                       2.3/4.9 MB 2.1 MB/s eta 0:00:02\n",
      "     -------------------                      2.4/4.9 MB 2.1 MB/s eta 0:00:02\n",
      "     --------------------                     2.6/4.9 MB 2.1 MB/s eta 0:00:02\n",
      "     ---------------------                    2.7/4.9 MB 2.1 MB/s eta 0:00:02\n",
      "     -----------------------                  2.9/4.9 MB 2.1 MB/s eta 0:00:01\n",
      "     ------------------------                 3.0/4.9 MB 2.2 MB/s eta 0:00:01\n",
      "     -------------------------                3.2/4.9 MB 2.2 MB/s eta 0:00:01\n",
      "     --------------------------               3.3/4.9 MB 2.3 MB/s eta 0:00:01\n",
      "     ----------------------------             3.5/4.9 MB 2.3 MB/s eta 0:00:01\n",
      "     ----------------------------             3.6/4.9 MB 2.3 MB/s eta 0:00:01\n",
      "     ------------------------------           3.7/4.9 MB 2.3 MB/s eta 0:00:01\n",
      "     -------------------------------          3.9/4.9 MB 2.3 MB/s eta 0:00:01\n",
      "     --------------------------------         4.0/4.9 MB 2.4 MB/s eta 0:00:01\n",
      "     ---------------------------------        4.2/4.9 MB 2.4 MB/s eta 0:00:01\n",
      "     ----------------------------------       4.3/4.9 MB 2.4 MB/s eta 0:00:01\n",
      "     -----------------------------------      4.4/4.9 MB 2.4 MB/s eta 0:00:01\n",
      "     ------------------------------------     4.6/4.9 MB 2.4 MB/s eta 0:00:01\n",
      "     --------------------------------------   4.8/4.9 MB 2.5 MB/s eta 0:00:01\n",
      "     ---------------------------------------  4.9/4.9 MB 2.5 MB/s eta 0:00:01\n",
      "     ---------------------------------------- 4.9/4.9 MB 2.5 MB/s eta 0:00:00\n",
      "Collecting torchaudio\n",
      "  Downloading https://download.pytorch.org/whl/cu117/torchaudio-2.0.2%2Bcu117-cp311-cp311-win_amd64.whl (2.5 MB)\n",
      "                                              0.0/2.5 MB ? eta -:--:--\n",
      "     -                                        0.1/2.5 MB 3.5 MB/s eta 0:00:01\n",
      "     ----                                     0.3/2.5 MB 4.4 MB/s eta 0:00:01\n",
      "     -------                                  0.5/2.5 MB 4.0 MB/s eta 0:00:01\n",
      "     ----------                               0.7/2.5 MB 3.9 MB/s eta 0:00:01\n",
      "     ------------                             0.8/2.5 MB 3.5 MB/s eta 0:00:01\n",
      "     ---------------                          1.0/2.5 MB 3.7 MB/s eta 0:00:01\n",
      "     ------------------                       1.1/2.5 MB 3.6 MB/s eta 0:00:01\n",
      "     ---------------------                    1.3/2.5 MB 3.6 MB/s eta 0:00:01\n",
      "     -------------------------                1.5/2.5 MB 3.8 MB/s eta 0:00:01\n",
      "     ---------------------------              1.7/2.5 MB 3.7 MB/s eta 0:00:01\n",
      "     ------------------------------           1.9/2.5 MB 3.7 MB/s eta 0:00:01\n",
      "     -------------------------------          2.0/2.5 MB 3.6 MB/s eta 0:00:01\n",
      "     -----------------------------------      2.2/2.5 MB 3.6 MB/s eta 0:00:01\n",
      "     --------------------------------------   2.4/2.5 MB 3.6 MB/s eta 0:00:01\n",
      "     ---------------------------------------- 2.5/2.5 MB 3.6 MB/s eta 0:00:00\n",
      "Requirement already satisfied: filelock in c:\\users\\user\\appdata\\local\\programs\\python\\python311\\lib\\site-packages (from torch) (3.12.0)\n",
      "Requirement already satisfied: typing-extensions in c:\\users\\user\\appdata\\local\\programs\\python\\python311\\lib\\site-packages (from torch) (4.6.2)\n",
      "Requirement already satisfied: sympy in c:\\users\\user\\appdata\\local\\programs\\python\\python311\\lib\\site-packages (from torch) (1.12)\n",
      "Requirement already satisfied: networkx in c:\\users\\user\\appdata\\local\\programs\\python\\python311\\lib\\site-packages (from torch) (3.1)\n",
      "Requirement already satisfied: jinja2 in c:\\users\\user\\appdata\\local\\programs\\python\\python311\\lib\\site-packages (from torch) (3.1.2)\n",
      "Requirement already satisfied: numpy in c:\\users\\user\\appdata\\local\\programs\\python\\python311\\lib\\site-packages (from torchvision) (1.24.3)\n",
      "Requirement already satisfied: requests in c:\\users\\user\\appdata\\local\\programs\\python\\python311\\lib\\site-packages (from torchvision) (2.29.0)\n",
      "Requirement already satisfied: pillow!=8.3.*,>=5.3.0 in c:\\users\\user\\appdata\\local\\programs\\python\\python311\\lib\\site-packages (from torchvision) (9.5.0)\n",
      "Requirement already satisfied: MarkupSafe>=2.0 in c:\\users\\user\\appdata\\local\\programs\\python\\python311\\lib\\site-packages (from jinja2->torch) (2.1.2)\n",
      "Requirement already satisfied: charset-normalizer<4,>=2 in c:\\users\\user\\appdata\\local\\programs\\python\\python311\\lib\\site-packages (from requests->torchvision) (3.1.0)\n",
      "Requirement already satisfied: idna<4,>=2.5 in c:\\users\\user\\appdata\\local\\programs\\python\\python311\\lib\\site-packages (from requests->torchvision) (2.10)\n",
      "Requirement already satisfied: urllib3<1.27,>=1.21.1 in c:\\users\\user\\appdata\\local\\programs\\python\\python311\\lib\\site-packages (from requests->torchvision) (1.26.15)\n",
      "Requirement already satisfied: certifi>=2017.4.17 in c:\\users\\user\\appdata\\local\\programs\\python\\python311\\lib\\site-packages (from requests->torchvision) (2022.12.7)\n",
      "Requirement already satisfied: mpmath>=0.19 in c:\\users\\user\\appdata\\local\\programs\\python\\python311\\lib\\site-packages (from sympy->torch) (1.3.0)\n",
      "Installing collected packages: torchvision, torchaudio\n",
      "Successfully installed torchaudio-2.0.2+cu117 torchvision-0.15.2+cu117\n",
      "Note: you may need to restart the kernel to use updated packages.\n"
     ]
    }
   ],
   "source": [
    "pip install torch torchvision torchaudio --index-url https://download.pytorch.org/whl/cu117"
   ]
  },
  {
   "cell_type": "code",
   "execution_count": 5,
   "id": "0f8d98e9",
   "metadata": {},
   "outputs": [
    {
     "name": "stdout",
     "output_type": "stream",
     "text": [
      "Requirement already satisfied: transformers in c:\\users\\user\\appdata\\local\\programs\\python\\python311\\lib\\site-packages (4.29.2)Note: you may need to restart the kernel to use updated packages.\n",
      "\n",
      "Requirement already satisfied: requests in c:\\users\\user\\appdata\\local\\programs\\python\\python311\\lib\\site-packages (2.29.0)\n",
      "Requirement already satisfied: beautifulsoup4 in c:\\users\\user\\appdata\\local\\programs\\python\\python311\\lib\\site-packages (4.12.2)\n",
      "Requirement already satisfied: pandas in c:\\users\\user\\appdata\\local\\programs\\python\\python311\\lib\\site-packages (2.0.2)\n",
      "Requirement already satisfied: numpy in c:\\users\\user\\appdata\\local\\programs\\python\\python311\\lib\\site-packages (1.24.3)\n",
      "Requirement already satisfied: filelock in c:\\users\\user\\appdata\\local\\programs\\python\\python311\\lib\\site-packages (from transformers) (3.12.0)\n",
      "Requirement already satisfied: huggingface-hub<1.0,>=0.14.1 in c:\\users\\user\\appdata\\local\\programs\\python\\python311\\lib\\site-packages (from transformers) (0.14.1)\n",
      "Requirement already satisfied: packaging>=20.0 in c:\\users\\user\\appdata\\local\\programs\\python\\python311\\lib\\site-packages (from transformers) (23.1)\n",
      "Requirement already satisfied: pyyaml>=5.1 in c:\\users\\user\\appdata\\local\\programs\\python\\python311\\lib\\site-packages (from transformers) (6.0)\n",
      "Requirement already satisfied: regex!=2019.12.17 in c:\\users\\user\\appdata\\roaming\\python\\python311\\site-packages (from transformers) (2023.5.5)\n",
      "Requirement already satisfied: tokenizers!=0.11.3,<0.14,>=0.11.1 in c:\\users\\user\\appdata\\local\\programs\\python\\python311\\lib\\site-packages (from transformers) (0.13.3)\n",
      "Requirement already satisfied: tqdm>=4.27 in c:\\users\\user\\appdata\\local\\programs\\python\\python311\\lib\\site-packages (from transformers) (4.65.0)\n",
      "Requirement already satisfied: charset-normalizer<4,>=2 in c:\\users\\user\\appdata\\local\\programs\\python\\python311\\lib\\site-packages (from requests) (3.1.0)\n",
      "Requirement already satisfied: idna<4,>=2.5 in c:\\users\\user\\appdata\\local\\programs\\python\\python311\\lib\\site-packages (from requests) (2.10)\n",
      "Requirement already satisfied: urllib3<1.27,>=1.21.1 in c:\\users\\user\\appdata\\local\\programs\\python\\python311\\lib\\site-packages (from requests) (1.26.15)\n",
      "Requirement already satisfied: certifi>=2017.4.17 in c:\\users\\user\\appdata\\local\\programs\\python\\python311\\lib\\site-packages (from requests) (2022.12.7)\n",
      "Requirement already satisfied: soupsieve>1.2 in c:\\users\\user\\appdata\\local\\programs\\python\\python311\\lib\\site-packages (from beautifulsoup4) (2.4.1)\n",
      "Requirement already satisfied: python-dateutil>=2.8.2 in c:\\users\\user\\appdata\\local\\programs\\python\\python311\\lib\\site-packages (from pandas) (2.8.2)\n",
      "Requirement already satisfied: pytz>=2020.1 in c:\\users\\user\\appdata\\local\\programs\\python\\python311\\lib\\site-packages (from pandas) (2023.3)\n",
      "Requirement already satisfied: tzdata>=2022.1 in c:\\users\\user\\appdata\\local\\programs\\python\\python311\\lib\\site-packages (from pandas) (2023.3)\n",
      "Requirement already satisfied: fsspec in c:\\users\\user\\appdata\\local\\programs\\python\\python311\\lib\\site-packages (from huggingface-hub<1.0,>=0.14.1->transformers) (2023.5.0)\n",
      "Requirement already satisfied: typing-extensions>=3.7.4.3 in c:\\users\\user\\appdata\\local\\programs\\python\\python311\\lib\\site-packages (from huggingface-hub<1.0,>=0.14.1->transformers) (4.6.2)\n",
      "Requirement already satisfied: six>=1.5 in c:\\users\\user\\appdata\\local\\programs\\python\\python311\\lib\\site-packages (from python-dateutil>=2.8.2->pandas) (1.16.0)\n",
      "Requirement already satisfied: colorama in c:\\users\\user\\appdata\\local\\programs\\python\\python311\\lib\\site-packages (from tqdm>=4.27->transformers) (0.4.6)\n"
     ]
    }
   ],
   "source": [
    "pip install transformers requests beautifulsoup4 pandas numpy"
   ]
  },
  {
   "cell_type": "code",
   "execution_count": 4,
   "id": "3ae520c5",
   "metadata": {},
   "outputs": [],
   "source": [
    "from transformers import AutoTokenizer, AutoModelForSequenceClassification\n",
    "import torch\n",
    "import requests\n",
    "from bs4 import BeautifulSoup\n",
    "import re\n"
   ]
  },
  {
   "cell_type": "code",
   "execution_count": 8,
   "id": "69199fc6",
   "metadata": {},
   "outputs": [],
   "source": [
    "tokenizer = AutoTokenizer.from_pretrained('nlptown/bert-base-multilingual-uncased-sentiment')\n",
    "model = AutoModelForSequenceClassification.from_pretrained('nlptown/bert-base-multilingual-uncased-sentiment')"
   ]
  },
  {
   "cell_type": "code",
   "execution_count": 13,
   "id": "fff26ab8",
   "metadata": {},
   "outputs": [],
   "source": [
    "tokens = tokenizer.encode('It was good but couldve been better.I love it!. Great', return_tensors='pt')"
   ]
  },
  {
   "cell_type": "code",
   "execution_count": 14,
   "id": "1246b995",
   "metadata": {},
   "outputs": [
    {
     "data": {
      "text/plain": [
       "tensor([[-3.2471, -2.2681,  0.5829,  2.2848,  2.1472]],\n",
       "       grad_fn=<AddmmBackward0>)"
      ]
     },
     "execution_count": 14,
     "metadata": {},
     "output_type": "execute_result"
    }
   ],
   "source": [
    "result = model(tokens)\n",
    "result.logits"
   ]
  },
  {
   "cell_type": "code",
   "execution_count": 15,
   "id": "78c677ae",
   "metadata": {},
   "outputs": [
    {
     "data": {
      "text/plain": [
       "4"
      ]
     },
     "execution_count": 15,
     "metadata": {},
     "output_type": "execute_result"
    }
   ],
   "source": [
    "int(torch.argmax(result.logits))+1"
   ]
  },
  {
   "cell_type": "code",
   "execution_count": 26,
   "id": "7411fffe",
   "metadata": {},
   "outputs": [],
   "source": [
    "#r = requests.get('https://www.yelp.com/biz/social-brew-cafe-pyrmont')\n",
    "r = requests.get('https://www.yelp.com/biz/ramen-hiroshi-san-francisco')\n",
    "soup = BeautifulSoup(r.text, 'html.parser')\n",
    "regex = re.compile('.*comment.*')\n",
    "results = soup.find_all('p', {'class':regex})\n",
    "reviews = [result.text for result in results]"
   ]
  },
  {
   "cell_type": "code",
   "execution_count": 27,
   "id": "8dbe6f09",
   "metadata": {},
   "outputs": [
    {
     "data": {
      "text/plain": [
       "[\"Very respectful of peanut and shellfish allergies. \\xa0Was able to perfectly accommodate me. \\xa0The fish broth does not contaron shellfish, it comes from jackfish. \\xa0Chicken and pork broth had a distinct smoked flavor. \\xa0So different than the very salty I'm used to. Gyoza was very very delicious. \\xa0Pork and chicken meat were perfectly tender. \\xa0Family friendly.\",\n",
       " 'A solid Ramen spot on Kearney that is great for a quick lunch, and also open late. Food (4/5): the ramen was flavorful but not too salty, and the pork was extremely tender. The chicken karaage was delicious as well. Not 5/5 just because I have technically had better, but nonetheless this is a great spot that is not too busy Service (4/5): good service overall, friendly waiters and relatively quickAmbiance (4/5): inside is spacious and well decorated',\n",
       " \"Not going to lie - I was not expecting much from this ramen restaurant. \\xa0SF isn't really known for ramen. \\xa0But as a ramen connoisseur, I'll try all the ramen. \\xa0I was not disappointed. \\xa0Our table got a number of skewers and shared two different ramens: the tonkotsu ramen and the yuzu ramen. \\xa0The tonkotsu ramen was not too salty and the noodles were very chewy. \\xa0The yuzu ramen was really good - the yuzu flavor is prominent but did not compliment the chicken broth as well as Afuri's. \\xa0Good try though!My favorite yakitoris were the chicken gizzard and skin, and the beef tongue. \\xa0We also got the duck and the chicken heart - both were okay.\",\n",
       " \"Perfect place to dip into during JP Morgan. It was nearly empty when we arrived but had filled up with banker and Pharma types by the time our order came.Staff was friendly and service was efficient. The yuzu sake was a delicious accompaniment to the dumplings and fried chicken karaage.Casual atmosphere, I'd like to come back and try it for lunch.\",\n",
       " \"Solid ramen spot downtown! I love mentai cream things and so when I saw mentai potatoes on the menu I was intrigued! They're pretty good!! The sauce tastes distinctly like mentaiko and is super yummy. Pairs really well with crispy potatoes. Only thing is it's a little salty. I got the tonkatsu ramen and it was very good! The broth itself was thick and flavorful. The chasu was also nice, thick, and juicy. Filled with other great toppings: woodear mushrooms, bamboo, soft boiled egg. Would go again if in the area!\",\n",
       " \"Stopped in for lunch and had the House Tonkatsu Ramen. \\xa0I loved the ramen noodles! Thin and Al dente' was perfect with the flavorful broth. \\xa0I'm used to having additional toppings such as bean sprouts, Fishcake, nori etc. my bowl contained the pork belly, half of a soft boiled egg and lotus root which was a little different. \\xa0Next time I will look to purchase the additional toppings. \\xa0The standard bowl costs $17.00 plus tax and tip. \\xa0I also would have enjoyed a little more broth.\",\n",
       " 'I don\\'t know if I\\'m losing my touch or if there are just so many ramen joints out there these days (let\\'s go with the latter, since that\\'s good in multiple ways), but I reluctantly have to admit - I hadn\\'t even heard of Ramen Hiroshi until stumbling upon them on Yelp. \\xa0Which is kind of crazy, considering how this is their fourth location (Walnut Creek, San Ramon, and Alameda are the others). \\xa0Clearly, they\\'re doing something right...and that I don\\'t get out to the East Bay nearly often enough. \\xa0But at least that\\'s still a better excuse than me losing my touch! \\xa0Cuz that\\'s definitely not the case...right?Now, even though I knew nothing about Ramen Hiroshi, it didn\\'t take long to realize their appeal after scouring through their photos and menu. \\xa0I mean, it\\'d be tough not to get excited after seeing all that they have to offer - a dozen varieties of ramen featuring different styles and broths, a huge slate of starters, salads, and even a bunch of yakitori skewers. \\xa0Honestly, so many things caught my eye, I immediately regretted not coming here with more people to try more things! \\xa0Which, in turn, also explains why I made it a point to come back before writing this!-- CHICKEN KARAAGE - Hiroshi\\'s Famous Fried Chicken Pieces...$10(yelp.com/biz_photos/rame…)Oh the potential! \\xa0On the plus side, the chicken was moist and the batter was thin and crispy. \\xa0That said, the taste needed a bit more seasoning or a glaze to give it some punch, as opposed to the modest dollop of kewpie mayo.-- HIROSHI TONKOTSU RAMEN - Signature Hakata Style \"Tonkotsu\" Ramen with Braised Berkshire Pork Belly Slices, Marinated Soft-Boiled Egg, Lotus Root, Black Mushrooms, Bamboo Shoots, Green Onions, and Pickled Red Ginger with Thin Straight Noodles...$17(yelp.com/biz_photos/rame…)Thankfully, their namesake ramen didn\\'t disappoint! \\xa0Most of the ingredients were fine, and I liked the noodles, but the pork belly and the broth were so good! \\xa0The slices of pork were thick yet juicy and the broth was rich and flavorful.-- IKA GESO AGE - Fried Squid Legs...$10(yelp.com/biz_photos/rame…)Very similar to the karaage, in more ways than one. \\xa0The pieces of squid were all really meaty, and the batter was also thin and crispy, but this needed a bit more seasoning as well (though, this dipping aioli was much better).-- TANTANMEN - Creamy Sesame-Soy Milk Based Tonkotsu Broth with Curly Noodles, Spicy Ground Pork, Marinated Soft-Boiled Egg, Lotus Root, Bamboo Shoots, Black Mushrooms, Bok Choy, Bean Sprouts, and Green Onions...$18(yelp.com/biz_photos/rame…)A little underwhelming compared to their tonkotsu ramen. \\xa0The ground pork was great (I liked the touch of spice), but everything else was just \"okay\". \\xa0For me, the thickness of the broth, while tasty, made this feel super heavy to eat.While the food was pretty decent for the most part, the thing I like most about Ramen Hiroshi is just how convenient it is. \\xa0Granted, both of my meals were at night, so I can\\'t say if the same applies during the day, but I\\'ve always been able to park right in front and have never had a problem getting a table (there\\'s some seating up front, but plenty more in the back). \\xa0What\\'s more, the vibe is so chill - the workers are friendly and attentive (yet not intrusive), the food comes out timely, and there\\'s no rush to finish and leave.Given how there aren\\'t a ton of eateries open for a late-ish dinner in this part of downtown, I\\'m sure I\\'ll be back at Ramen Hiroshi again. \\xa0I may have plenty of ramen joints in SF on my list of places to try, but it\\'s nice to know there\\'s a solid option around here for something hot and soup, especially now that Ramen Underground is gone. \\xa0Plus, I wouldn\\'t mind coming back to check out the chicken ramen options, as well as the yakitori and Kushiyaki options!',\n",
       " 'Authentic flavors with japanese ingredients. They have a few locations all similar. Great selection of chicken parts for izakaya skewers. You can never go wrong with heart or liver seasoned well with japanese sauce. The tonkatsu ramen was on point with fair amount of veggies and slices of pork. Service was friendly and accommodating.',\n",
       " 'Dinner review. Ramenya.4 - ARABIKI SAUSAGEJapanese kurobuta sausages2 - HANETSUKI GYOUZAOur house made pork dumplings with crispy thin \"hane\" crust, served with soy-chili sauce4 - TAKOYAKIOctopus bits in a fried ball batter topped with dried bonito flakes, seaweed powder and pickled red ginger \\xa02 - TANTANMENCreamy sesame based Tonkotsu broth topped with spicy ground pork, marinated soft-boiled egg, lotus root, bamboo shoot, black mushroom, bokchoy+Pork ChashuOverall, tantan could be better.',\n",
       " \"Great ramen and service! We found ourselves here after bar-hopping, and a delicious bowl of ramen is exactly what we needed. There's some seating in the front and then plenty more in the back. There was a group of 10 people next to us, so even though the restaurant might be on the smaller side, it seems like they can accommodate larger groups.I ordered the Hiroshi Tonkotsu Ramen without black mushrooms. The thin straight noodles were perfect. The broth was very heavy but delicious!\"]"
      ]
     },
     "execution_count": 27,
     "metadata": {},
     "output_type": "execute_result"
    }
   ],
   "source": [
    "reviews"
   ]
  },
  {
   "cell_type": "code",
   "execution_count": 28,
   "id": "1dbabb2a",
   "metadata": {},
   "outputs": [],
   "source": [
    "import numpy as np\n",
    "import pandas as pd"
   ]
  },
  {
   "cell_type": "code",
   "execution_count": 29,
   "id": "4349919f",
   "metadata": {},
   "outputs": [],
   "source": [
    "df = pd.DataFrame(np.array(reviews), columns=['review'])"
   ]
  },
  {
   "cell_type": "code",
   "execution_count": 30,
   "id": "fae8d225",
   "metadata": {},
   "outputs": [
    {
     "data": {
      "text/plain": [
       "\"Very respectful of peanut and shellfish allergies. \\xa0Was able to perfectly accommodate me. \\xa0The fish broth does not contaron shellfish, it comes from jackfish. \\xa0Chicken and pork broth had a distinct smoked flavor. \\xa0So different than the very salty I'm used to. Gyoza was very very delicious. \\xa0Pork and chicken meat were perfectly tender. \\xa0Family friendly.\""
      ]
     },
     "execution_count": 30,
     "metadata": {},
     "output_type": "execute_result"
    }
   ],
   "source": [
    "df['review'].iloc[0]"
   ]
  },
  {
   "cell_type": "code",
   "execution_count": 31,
   "id": "0587a39e",
   "metadata": {},
   "outputs": [],
   "source": [
    "def sentiment_score(review):\n",
    "    tokens = tokenizer.encode(review, return_tensors='pt')\n",
    "    result = model(tokens)\n",
    "    return int(torch.argmax(result.logits))+1"
   ]
  },
  {
   "cell_type": "code",
   "execution_count": 32,
   "id": "e21b0a34",
   "metadata": {},
   "outputs": [
    {
     "data": {
      "text/plain": [
       "4"
      ]
     },
     "execution_count": 32,
     "metadata": {},
     "output_type": "execute_result"
    }
   ],
   "source": [
    "sentiment_score(df['review'].iloc[1])"
   ]
  },
  {
   "cell_type": "code",
   "execution_count": 33,
   "id": "23203713",
   "metadata": {},
   "outputs": [],
   "source": [
    "df['sentiment'] = df['review'].apply(lambda x: sentiment_score(x[:512]))"
   ]
  },
  {
   "cell_type": "code",
   "execution_count": 34,
   "id": "72195dd0",
   "metadata": {},
   "outputs": [
    {
     "data": {
      "text/html": [
       "<div>\n",
       "<style scoped>\n",
       "    .dataframe tbody tr th:only-of-type {\n",
       "        vertical-align: middle;\n",
       "    }\n",
       "\n",
       "    .dataframe tbody tr th {\n",
       "        vertical-align: top;\n",
       "    }\n",
       "\n",
       "    .dataframe thead th {\n",
       "        text-align: right;\n",
       "    }\n",
       "</style>\n",
       "<table border=\"1\" class=\"dataframe\">\n",
       "  <thead>\n",
       "    <tr style=\"text-align: right;\">\n",
       "      <th></th>\n",
       "      <th>review</th>\n",
       "      <th>sentiment</th>\n",
       "    </tr>\n",
       "  </thead>\n",
       "  <tbody>\n",
       "    <tr>\n",
       "      <th>0</th>\n",
       "      <td>Very respectful of peanut and shellfish allerg...</td>\n",
       "      <td>5</td>\n",
       "    </tr>\n",
       "    <tr>\n",
       "      <th>1</th>\n",
       "      <td>A solid Ramen spot on Kearney that is great fo...</td>\n",
       "      <td>4</td>\n",
       "    </tr>\n",
       "    <tr>\n",
       "      <th>2</th>\n",
       "      <td>Not going to lie - I was not expecting much fr...</td>\n",
       "      <td>4</td>\n",
       "    </tr>\n",
       "    <tr>\n",
       "      <th>3</th>\n",
       "      <td>Perfect place to dip into during JP Morgan. It...</td>\n",
       "      <td>5</td>\n",
       "    </tr>\n",
       "    <tr>\n",
       "      <th>4</th>\n",
       "      <td>Solid ramen spot downtown! I love mentai cream...</td>\n",
       "      <td>4</td>\n",
       "    </tr>\n",
       "    <tr>\n",
       "      <th>5</th>\n",
       "      <td>Stopped in for lunch and had the House Tonkats...</td>\n",
       "      <td>4</td>\n",
       "    </tr>\n",
       "    <tr>\n",
       "      <th>6</th>\n",
       "      <td>I don't know if I'm losing my touch or if ther...</td>\n",
       "      <td>3</td>\n",
       "    </tr>\n",
       "    <tr>\n",
       "      <th>7</th>\n",
       "      <td>Authentic flavors with japanese ingredients. T...</td>\n",
       "      <td>5</td>\n",
       "    </tr>\n",
       "    <tr>\n",
       "      <th>8</th>\n",
       "      <td>Dinner review. Ramenya.4 - ARABIKI SAUSAGEJapa...</td>\n",
       "      <td>3</td>\n",
       "    </tr>\n",
       "    <tr>\n",
       "      <th>9</th>\n",
       "      <td>Great ramen and service! We found ourselves he...</td>\n",
       "      <td>5</td>\n",
       "    </tr>\n",
       "  </tbody>\n",
       "</table>\n",
       "</div>"
      ],
      "text/plain": [
       "                                              review  sentiment\n",
       "0  Very respectful of peanut and shellfish allerg...          5\n",
       "1  A solid Ramen spot on Kearney that is great fo...          4\n",
       "2  Not going to lie - I was not expecting much fr...          4\n",
       "3  Perfect place to dip into during JP Morgan. It...          5\n",
       "4  Solid ramen spot downtown! I love mentai cream...          4\n",
       "5  Stopped in for lunch and had the House Tonkats...          4\n",
       "6  I don't know if I'm losing my touch or if ther...          3\n",
       "7  Authentic flavors with japanese ingredients. T...          5\n",
       "8  Dinner review. Ramenya.4 - ARABIKI SAUSAGEJapa...          3\n",
       "9  Great ramen and service! We found ourselves he...          5"
      ]
     },
     "execution_count": 34,
     "metadata": {},
     "output_type": "execute_result"
    }
   ],
   "source": [
    "df"
   ]
  },
  {
   "cell_type": "code",
   "execution_count": 25,
   "id": "ddf0b893",
   "metadata": {},
   "outputs": [
    {
     "data": {
      "text/plain": [
       "\"It was ok. Had coffee with my friends. I'm new in the area, still need to discover new places.\""
      ]
     },
     "execution_count": 25,
     "metadata": {},
     "output_type": "execute_result"
    }
   ],
   "source": [
    "df['review'].iloc[3]"
   ]
  }
 ],
 "metadata": {
  "kernelspec": {
   "display_name": "Python 3 (ipykernel)",
   "language": "python",
   "name": "python3"
  },
  "language_info": {
   "codemirror_mode": {
    "name": "ipython",
    "version": 3
   },
   "file_extension": ".py",
   "mimetype": "text/x-python",
   "name": "python",
   "nbconvert_exporter": "python",
   "pygments_lexer": "ipython3",
   "version": "3.11.3"
  }
 },
 "nbformat": 4,
 "nbformat_minor": 5
}
